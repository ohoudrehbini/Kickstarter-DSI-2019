{
 "cells": [
  {
   "cell_type": "markdown",
   "metadata": {},
   "source": [
    "# Project : New consulting service at Kickstarter "
   ]
  },
  {
   "cell_type": "markdown",
   "metadata": {},
   "source": [
    "## Project Overview : \n",
    "    \n",
    "   Kickstarter is crowdfunding platform which can raise a small financial aid from large number of people throughout the internet. This platform is thinking to create a consulting service to project founder to help its customers create more successful crowdfunding campaigns. \n",
    "    \n",
    "   This assignment based on Kickstarter dataset. This data has several factors: \n",
    "    1. the name and the id of project. \n",
    "    2. the category, sub-category and the location of project. \n",
    "    3. the pledged, goal of pledged, and the status of project. \n",
    "    4. the backers, the funder and the date of funder. \n",
    "    5. the level and duration of each project. \n",
    "    \n",
    "To provide counsulting service, it is important to clean up the data first for avoding the duplicates and empty data. moreover, filtering the whole data in xls file showed that most of the funding date between 2010 to 2012. Therefore, to select the most updated data, 2012 was chosen to provide a possible conclsion and disicion. \n",
    "\n",
    "4 Business questions to ask with Kickstarter data:\n",
    "\n",
    "   1. what is the best lenght of time to run a successful Kickstarter campaigen ?\n",
    "   2. what is the ideal pledge goal ? \n",
    "   3. what type of projects would be most successful and getting funded ? \n",
    "   4. Is there an ideal month/day/time to launch a campaigen? \n",
    "\n",
    "\n"
   ]
  },
  {
   "cell_type": "markdown",
   "metadata": {},
   "source": [
    "## Open the data as pandas Dataframes "
   ]
  },
  {
   "cell_type": "code",
   "execution_count": 1,
   "metadata": {},
   "outputs": [],
   "source": [
    "import pandas as pd\n",
    "import numpy as np\n",
    "import seaborn as sns\n",
    "Kickstarterscrape = pd.read_csv('DSI_kickstarterscrape_dataset.csv',encoding = \"cp437\")\n",
    "from matplotlib import pyplot as plt\n",
    "import warnings\n",
    "warnings.filterwarnings(\"ignore\")\n",
    "%matplotlib inline\n",
    "from IPython.display import display   # A notebook function to display more complex data (like tables)\n",
    "import scipy.stats as stats \n",
    "# for latex equations\n",
    "from IPython.display import Math, Latex\n",
    "# for displaying images\n",
    "from IPython.core.display import Image"
   ]
  },
  {
   "cell_type": "code",
   "execution_count": 2,
   "metadata": {},
   "outputs": [
    {
     "name": "stdout",
     "output_type": "stream",
     "text": [
      "<class 'pandas.core.frame.DataFrame'>\n",
      "RangeIndex: 45957 entries, 0 to 45956\n",
      "Data columns (total 17 columns):\n",
      "project id           45957 non-null int64\n",
      "name                 45957 non-null object\n",
      "url                  45957 non-null object\n",
      "category             45957 non-null object\n",
      "subcategory          45957 non-null object\n",
      "location             44635 non-null object\n",
      "status               45957 non-null object\n",
      "goal                 45957 non-null float64\n",
      "pledged              45945 non-null float64\n",
      "funded percentage    45957 non-null float64\n",
      "backers              45957 non-null int64\n",
      "funded date          45957 non-null object\n",
      "levels               45957 non-null int64\n",
      "reward levels        45898 non-null object\n",
      "updates              45957 non-null int64\n",
      "comments             45957 non-null int64\n",
      "duration             45957 non-null float64\n",
      "dtypes: float64(4), int64(5), object(8)\n",
      "memory usage: 6.0+ MB\n"
     ]
    }
   ],
   "source": [
    "Kickstarterscrape.info(max_cols=20)"
   ]
  },
  {
   "cell_type": "code",
   "execution_count": 3,
   "metadata": {},
   "outputs": [
    {
     "data": {
      "text/plain": [
       "(45957, 17)"
      ]
     },
     "execution_count": 3,
     "metadata": {},
     "output_type": "execute_result"
    }
   ],
   "source": [
    "Kickstarterscrape.shape"
   ]
  },
  {
   "cell_type": "code",
   "execution_count": 4,
   "metadata": {},
   "outputs": [
    {
     "data": {
      "text/plain": [
       "Index(['project id', 'name', 'url', 'category', 'subcategory', 'location',\n",
       "       'status', 'goal', 'pledged', 'funded percentage', 'backers',\n",
       "       'funded date', 'levels', 'reward levels', 'updates', 'comments',\n",
       "       'duration'],\n",
       "      dtype='object')"
      ]
     },
     "execution_count": 4,
     "metadata": {},
     "output_type": "execute_result"
    }
   ],
   "source": [
    "Kickstarterscrape.columns"
   ]
  },
  {
   "cell_type": "code",
   "execution_count": 5,
   "metadata": {},
   "outputs": [
    {
     "data": {
      "text/html": [
       "<div>\n",
       "<style scoped>\n",
       "    .dataframe tbody tr th:only-of-type {\n",
       "        vertical-align: middle;\n",
       "    }\n",
       "\n",
       "    .dataframe tbody tr th {\n",
       "        vertical-align: top;\n",
       "    }\n",
       "\n",
       "    .dataframe thead th {\n",
       "        text-align: right;\n",
       "    }\n",
       "</style>\n",
       "<table border=\"1\" class=\"dataframe\">\n",
       "  <thead>\n",
       "    <tr style=\"text-align: right;\">\n",
       "      <th></th>\n",
       "      <th>project id</th>\n",
       "      <th>name</th>\n",
       "      <th>url</th>\n",
       "      <th>category</th>\n",
       "      <th>subcategory</th>\n",
       "      <th>location</th>\n",
       "      <th>status</th>\n",
       "      <th>goal</th>\n",
       "      <th>pledged</th>\n",
       "      <th>funded percentage</th>\n",
       "      <th>backers</th>\n",
       "      <th>funded date</th>\n",
       "      <th>levels</th>\n",
       "      <th>reward levels</th>\n",
       "      <th>updates</th>\n",
       "      <th>comments</th>\n",
       "      <th>duration</th>\n",
       "    </tr>\n",
       "  </thead>\n",
       "  <tbody>\n",
       "    <tr>\n",
       "      <th>0</th>\n",
       "      <td>39409</td>\n",
       "      <td>WHILE THE TREES SLEEP</td>\n",
       "      <td>http://www.kickstarter.com/projects/emiliesaba...</td>\n",
       "      <td>Film &amp; Video</td>\n",
       "      <td>Short Film</td>\n",
       "      <td>Columbia, MO</td>\n",
       "      <td>successful</td>\n",
       "      <td>10500.0</td>\n",
       "      <td>11545.0</td>\n",
       "      <td>1.099524</td>\n",
       "      <td>66</td>\n",
       "      <td>Fri, 19 Aug 2011 19:28:17 -0000</td>\n",
       "      <td>7</td>\n",
       "      <td>$25,$50,$100,$250,$500,$1,000,$2,500</td>\n",
       "      <td>10</td>\n",
       "      <td>2</td>\n",
       "      <td>30.00</td>\n",
       "    </tr>\n",
       "    <tr>\n",
       "      <th>1</th>\n",
       "      <td>126581</td>\n",
       "      <td>Educational Online Trading Card Game</td>\n",
       "      <td>http://www.kickstarter.com/projects/972789543/...</td>\n",
       "      <td>Games</td>\n",
       "      <td>Board &amp; Card Games</td>\n",
       "      <td>Maplewood, NJ</td>\n",
       "      <td>failed</td>\n",
       "      <td>4000.0</td>\n",
       "      <td>20.0</td>\n",
       "      <td>0.005000</td>\n",
       "      <td>2</td>\n",
       "      <td>Mon, 02 Aug 2010 03:59:00 -0000</td>\n",
       "      <td>5</td>\n",
       "      <td>$1,$5,$10,$25,$50</td>\n",
       "      <td>6</td>\n",
       "      <td>0</td>\n",
       "      <td>47.18</td>\n",
       "    </tr>\n",
       "    <tr>\n",
       "      <th>2</th>\n",
       "      <td>138119</td>\n",
       "      <td>STRUM</td>\n",
       "      <td>http://www.kickstarter.com/projects/185476022/...</td>\n",
       "      <td>Film &amp; Video</td>\n",
       "      <td>Animation</td>\n",
       "      <td>Los Angeles, CA</td>\n",
       "      <td>live</td>\n",
       "      <td>20000.0</td>\n",
       "      <td>56.0</td>\n",
       "      <td>0.002800</td>\n",
       "      <td>3</td>\n",
       "      <td>Fri, 08 Jun 2012 00:00:31 -0000</td>\n",
       "      <td>10</td>\n",
       "      <td>$1,$10,$25,$40,$50,$100,$250,$1,000,$1,337,$9,001</td>\n",
       "      <td>1</td>\n",
       "      <td>0</td>\n",
       "      <td>28.00</td>\n",
       "    </tr>\n",
       "    <tr>\n",
       "      <th>3</th>\n",
       "      <td>237090</td>\n",
       "      <td>GETTING OVER - One son's search to finally kno...</td>\n",
       "      <td>http://www.kickstarter.com/projects/charnick/g...</td>\n",
       "      <td>Film &amp; Video</td>\n",
       "      <td>Documentary</td>\n",
       "      <td>Los Angeles, CA</td>\n",
       "      <td>successful</td>\n",
       "      <td>6000.0</td>\n",
       "      <td>6535.0</td>\n",
       "      <td>1.089167</td>\n",
       "      <td>100</td>\n",
       "      <td>Sun, 08 Apr 2012 02:14:00 -0000</td>\n",
       "      <td>13</td>\n",
       "      <td>$1,$10,$25,$30,$50,$75,$85,$100,$110,$250,$500...</td>\n",
       "      <td>4</td>\n",
       "      <td>0</td>\n",
       "      <td>32.22</td>\n",
       "    </tr>\n",
       "    <tr>\n",
       "      <th>4</th>\n",
       "      <td>246101</td>\n",
       "      <td>The Launch of FlyeGrlRoyalty &amp;quot;The New Nam...</td>\n",
       "      <td>http://www.kickstarter.com/projects/flyegrlroy...</td>\n",
       "      <td>Fashion</td>\n",
       "      <td>Fashion</td>\n",
       "      <td>Novi, MI</td>\n",
       "      <td>failed</td>\n",
       "      <td>3500.0</td>\n",
       "      <td>0.0</td>\n",
       "      <td>0.000000</td>\n",
       "      <td>0</td>\n",
       "      <td>Wed, 01 Jun 2011 15:25:39 -0000</td>\n",
       "      <td>6</td>\n",
       "      <td>$10,$25,$50,$100,$150,$250</td>\n",
       "      <td>2</td>\n",
       "      <td>0</td>\n",
       "      <td>30.00</td>\n",
       "    </tr>\n",
       "    <tr>\n",
       "      <th>5</th>\n",
       "      <td>316217</td>\n",
       "      <td>Dinner Party - a short film about friendship.....</td>\n",
       "      <td>http://www.kickstarter.com/projects/249354515/...</td>\n",
       "      <td>Film &amp; Video</td>\n",
       "      <td>Short Film</td>\n",
       "      <td>Portland, OR</td>\n",
       "      <td>successful</td>\n",
       "      <td>3500.0</td>\n",
       "      <td>3582.0</td>\n",
       "      <td>1.023331</td>\n",
       "      <td>39</td>\n",
       "      <td>Wed, 22 Jun 2011 13:33:00 -0000</td>\n",
       "      <td>7</td>\n",
       "      <td>$5,$25,$50,$100,$250,$500,$1,000</td>\n",
       "      <td>8</td>\n",
       "      <td>0</td>\n",
       "      <td>21.43</td>\n",
       "    </tr>\n",
       "    <tr>\n",
       "      <th>6</th>\n",
       "      <td>325034</td>\n",
       "      <td>Mezzo</td>\n",
       "      <td>http://www.kickstarter.com/projects/geoffsaysh...</td>\n",
       "      <td>Film &amp; Video</td>\n",
       "      <td>Short Film</td>\n",
       "      <td>Collegedale, TN</td>\n",
       "      <td>failed</td>\n",
       "      <td>1000.0</td>\n",
       "      <td>280.0</td>\n",
       "      <td>0.280000</td>\n",
       "      <td>8</td>\n",
       "      <td>Sat, 18 Feb 2012 02:17:08 -0000</td>\n",
       "      <td>5</td>\n",
       "      <td>$5,$10,$25,$50,$100</td>\n",
       "      <td>0</td>\n",
       "      <td>0</td>\n",
       "      <td>30.00</td>\n",
       "    </tr>\n",
       "    <tr>\n",
       "      <th>7</th>\n",
       "      <td>407836</td>\n",
       "      <td>Help APORTA continue to make handwoven/knit ac...</td>\n",
       "      <td>http://www.kickstarter.com/projects/1078097864...</td>\n",
       "      <td>Fashion</td>\n",
       "      <td>Fashion</td>\n",
       "      <td>Chicago, IL</td>\n",
       "      <td>successful</td>\n",
       "      <td>2000.0</td>\n",
       "      <td>2180.0</td>\n",
       "      <td>1.090000</td>\n",
       "      <td>46</td>\n",
       "      <td>Fri, 30 Dec 2011 04:36:53 -0000</td>\n",
       "      <td>7</td>\n",
       "      <td>$10,$20,$50,$100,$250,$500,$1,000</td>\n",
       "      <td>13</td>\n",
       "      <td>5</td>\n",
       "      <td>30.00</td>\n",
       "    </tr>\n",
       "    <tr>\n",
       "      <th>8</th>\n",
       "      <td>436325</td>\n",
       "      <td>Music - Comedy - Album!</td>\n",
       "      <td>http://www.kickstarter.com/projects/mattgriffo...</td>\n",
       "      <td>Music</td>\n",
       "      <td>Music</td>\n",
       "      <td>Chicago, IL</td>\n",
       "      <td>successful</td>\n",
       "      <td>1000.0</td>\n",
       "      <td>1125.0</td>\n",
       "      <td>1.125000</td>\n",
       "      <td>30</td>\n",
       "      <td>Sun, 18 Apr 2010 04:59:00 -0000</td>\n",
       "      <td>12</td>\n",
       "      <td>$5,$8,$10,$15,$20,$30,$50,$100,$120,$250,$500,...</td>\n",
       "      <td>10</td>\n",
       "      <td>1</td>\n",
       "      <td>67.53</td>\n",
       "    </tr>\n",
       "    <tr>\n",
       "      <th>9</th>\n",
       "      <td>610918</td>\n",
       "      <td>The Apocalypse Calendar</td>\n",
       "      <td>http://www.kickstarter.com/projects/tqvinn/the...</td>\n",
       "      <td>Art</td>\n",
       "      <td>Illustration</td>\n",
       "      <td>Chicago, IL</td>\n",
       "      <td>successful</td>\n",
       "      <td>7500.0</td>\n",
       "      <td>9836.0</td>\n",
       "      <td>1.311527</td>\n",
       "      <td>255</td>\n",
       "      <td>Tue, 01 Nov 2011 04:59:00 -0000</td>\n",
       "      <td>10</td>\n",
       "      <td>$1,$20,$35,$50,$60,$100,$110,$500,$1,000,$1,500</td>\n",
       "      <td>6</td>\n",
       "      <td>5</td>\n",
       "      <td>35.29</td>\n",
       "    </tr>\n",
       "  </tbody>\n",
       "</table>\n",
       "</div>"
      ],
      "text/plain": [
       "   project id                                               name  \\\n",
       "0       39409                              WHILE THE TREES SLEEP   \n",
       "1      126581               Educational Online Trading Card Game   \n",
       "2      138119                                              STRUM   \n",
       "3      237090  GETTING OVER - One son's search to finally kno...   \n",
       "4      246101  The Launch of FlyeGrlRoyalty &quot;The New Nam...   \n",
       "5      316217  Dinner Party - a short film about friendship.....   \n",
       "6      325034                                              Mezzo   \n",
       "7      407836  Help APORTA continue to make handwoven/knit ac...   \n",
       "8      436325                            Music - Comedy - Album!   \n",
       "9      610918                            The Apocalypse Calendar   \n",
       "\n",
       "                                                 url      category  \\\n",
       "0  http://www.kickstarter.com/projects/emiliesaba...  Film & Video   \n",
       "1  http://www.kickstarter.com/projects/972789543/...         Games   \n",
       "2  http://www.kickstarter.com/projects/185476022/...  Film & Video   \n",
       "3  http://www.kickstarter.com/projects/charnick/g...  Film & Video   \n",
       "4  http://www.kickstarter.com/projects/flyegrlroy...       Fashion   \n",
       "5  http://www.kickstarter.com/projects/249354515/...  Film & Video   \n",
       "6  http://www.kickstarter.com/projects/geoffsaysh...  Film & Video   \n",
       "7  http://www.kickstarter.com/projects/1078097864...       Fashion   \n",
       "8  http://www.kickstarter.com/projects/mattgriffo...         Music   \n",
       "9  http://www.kickstarter.com/projects/tqvinn/the...           Art   \n",
       "\n",
       "          subcategory         location      status     goal  pledged  \\\n",
       "0          Short Film     Columbia, MO  successful  10500.0  11545.0   \n",
       "1  Board & Card Games    Maplewood, NJ      failed   4000.0     20.0   \n",
       "2           Animation  Los Angeles, CA        live  20000.0     56.0   \n",
       "3         Documentary  Los Angeles, CA  successful   6000.0   6535.0   \n",
       "4             Fashion         Novi, MI      failed   3500.0      0.0   \n",
       "5          Short Film     Portland, OR  successful   3500.0   3582.0   \n",
       "6          Short Film  Collegedale, TN      failed   1000.0    280.0   \n",
       "7             Fashion      Chicago, IL  successful   2000.0   2180.0   \n",
       "8               Music      Chicago, IL  successful   1000.0   1125.0   \n",
       "9        Illustration      Chicago, IL  successful   7500.0   9836.0   \n",
       "\n",
       "   funded percentage  backers                      funded date  levels  \\\n",
       "0           1.099524       66  Fri, 19 Aug 2011 19:28:17 -0000       7   \n",
       "1           0.005000        2  Mon, 02 Aug 2010 03:59:00 -0000       5   \n",
       "2           0.002800        3  Fri, 08 Jun 2012 00:00:31 -0000      10   \n",
       "3           1.089167      100  Sun, 08 Apr 2012 02:14:00 -0000      13   \n",
       "4           0.000000        0  Wed, 01 Jun 2011 15:25:39 -0000       6   \n",
       "5           1.023331       39  Wed, 22 Jun 2011 13:33:00 -0000       7   \n",
       "6           0.280000        8  Sat, 18 Feb 2012 02:17:08 -0000       5   \n",
       "7           1.090000       46  Fri, 30 Dec 2011 04:36:53 -0000       7   \n",
       "8           1.125000       30  Sun, 18 Apr 2010 04:59:00 -0000      12   \n",
       "9           1.311527      255  Tue, 01 Nov 2011 04:59:00 -0000      10   \n",
       "\n",
       "                                       reward levels  updates  comments  \\\n",
       "0               $25,$50,$100,$250,$500,$1,000,$2,500       10         2   \n",
       "1                                  $1,$5,$10,$25,$50        6         0   \n",
       "2  $1,$10,$25,$40,$50,$100,$250,$1,000,$1,337,$9,001        1         0   \n",
       "3  $1,$10,$25,$30,$50,$75,$85,$100,$110,$250,$500...        4         0   \n",
       "4                         $10,$25,$50,$100,$150,$250        2         0   \n",
       "5                   $5,$25,$50,$100,$250,$500,$1,000        8         0   \n",
       "6                                $5,$10,$25,$50,$100        0         0   \n",
       "7                  $10,$20,$50,$100,$250,$500,$1,000       13         5   \n",
       "8  $5,$8,$10,$15,$20,$30,$50,$100,$120,$250,$500,...       10         1   \n",
       "9    $1,$20,$35,$50,$60,$100,$110,$500,$1,000,$1,500        6         5   \n",
       "\n",
       "   duration  \n",
       "0     30.00  \n",
       "1     47.18  \n",
       "2     28.00  \n",
       "3     32.22  \n",
       "4     30.00  \n",
       "5     21.43  \n",
       "6     30.00  \n",
       "7     30.00  \n",
       "8     67.53  \n",
       "9     35.29  "
      ]
     },
     "execution_count": 5,
     "metadata": {},
     "output_type": "execute_result"
    }
   ],
   "source": [
    "Kickstarterscrape.head(10)"
   ]
  },
  {
   "cell_type": "code",
   "execution_count": 6,
   "metadata": {},
   "outputs": [
    {
     "data": {
      "text/html": [
       "<div>\n",
       "<style scoped>\n",
       "    .dataframe tbody tr th:only-of-type {\n",
       "        vertical-align: middle;\n",
       "    }\n",
       "\n",
       "    .dataframe tbody tr th {\n",
       "        vertical-align: top;\n",
       "    }\n",
       "\n",
       "    .dataframe thead th {\n",
       "        text-align: right;\n",
       "    }\n",
       "</style>\n",
       "<table border=\"1\" class=\"dataframe\">\n",
       "  <thead>\n",
       "    <tr style=\"text-align: right;\">\n",
       "      <th></th>\n",
       "      <th>project id</th>\n",
       "      <th>name</th>\n",
       "      <th>url</th>\n",
       "      <th>category</th>\n",
       "      <th>subcategory</th>\n",
       "      <th>location</th>\n",
       "      <th>status</th>\n",
       "      <th>goal</th>\n",
       "      <th>pledged</th>\n",
       "      <th>funded percentage</th>\n",
       "      <th>backers</th>\n",
       "      <th>funded date</th>\n",
       "      <th>levels</th>\n",
       "      <th>reward levels</th>\n",
       "      <th>updates</th>\n",
       "      <th>comments</th>\n",
       "      <th>duration</th>\n",
       "    </tr>\n",
       "  </thead>\n",
       "  <tbody>\n",
       "    <tr>\n",
       "      <th>count</th>\n",
       "      <td>4.595700e+04</td>\n",
       "      <td>45957</td>\n",
       "      <td>45957</td>\n",
       "      <td>45957</td>\n",
       "      <td>45957</td>\n",
       "      <td>44635</td>\n",
       "      <td>45957</td>\n",
       "      <td>4.595700e+04</td>\n",
       "      <td>4.594500e+04</td>\n",
       "      <td>45957.000000</td>\n",
       "      <td>45957.000000</td>\n",
       "      <td>45957</td>\n",
       "      <td>45957.000000</td>\n",
       "      <td>45898</td>\n",
       "      <td>45957.00000</td>\n",
       "      <td>45957.000000</td>\n",
       "      <td>45957.000000</td>\n",
       "    </tr>\n",
       "    <tr>\n",
       "      <th>unique</th>\n",
       "      <td>NaN</td>\n",
       "      <td>45754</td>\n",
       "      <td>45814</td>\n",
       "      <td>14</td>\n",
       "      <td>51</td>\n",
       "      <td>4849</td>\n",
       "      <td>5</td>\n",
       "      <td>NaN</td>\n",
       "      <td>NaN</td>\n",
       "      <td>NaN</td>\n",
       "      <td>NaN</td>\n",
       "      <td>41068</td>\n",
       "      <td>NaN</td>\n",
       "      <td>28378</td>\n",
       "      <td>NaN</td>\n",
       "      <td>NaN</td>\n",
       "      <td>NaN</td>\n",
       "    </tr>\n",
       "    <tr>\n",
       "      <th>top</th>\n",
       "      <td>NaN</td>\n",
       "      <td>Black Storm</td>\n",
       "      <td>http://www.kickstarter.com/projects/foriknowmy...</td>\n",
       "      <td>Film &amp;amp; Video</td>\n",
       "      <td>Documentary</td>\n",
       "      <td>Los Angeles, CA</td>\n",
       "      <td>successful</td>\n",
       "      <td>NaN</td>\n",
       "      <td>NaN</td>\n",
       "      <td>NaN</td>\n",
       "      <td>NaN</td>\n",
       "      <td>Sun, 01 Jan 2012 04:59:00 -0000</td>\n",
       "      <td>NaN</td>\n",
       "      <td>$10,$25,$50,$100,$250,$500,$1,000</td>\n",
       "      <td>NaN</td>\n",
       "      <td>NaN</td>\n",
       "      <td>NaN</td>\n",
       "    </tr>\n",
       "    <tr>\n",
       "      <th>freq</th>\n",
       "      <td>NaN</td>\n",
       "      <td>3</td>\n",
       "      <td>2</td>\n",
       "      <td>13053</td>\n",
       "      <td>4012</td>\n",
       "      <td>3927</td>\n",
       "      <td>22969</td>\n",
       "      <td>NaN</td>\n",
       "      <td>NaN</td>\n",
       "      <td>NaN</td>\n",
       "      <td>NaN</td>\n",
       "      <td>44</td>\n",
       "      <td>NaN</td>\n",
       "      <td>369</td>\n",
       "      <td>NaN</td>\n",
       "      <td>NaN</td>\n",
       "      <td>NaN</td>\n",
       "    </tr>\n",
       "    <tr>\n",
       "      <th>mean</th>\n",
       "      <td>1.080800e+09</td>\n",
       "      <td>NaN</td>\n",
       "      <td>NaN</td>\n",
       "      <td>NaN</td>\n",
       "      <td>NaN</td>\n",
       "      <td>NaN</td>\n",
       "      <td>NaN</td>\n",
       "      <td>1.194271e+04</td>\n",
       "      <td>4.980750e+03</td>\n",
       "      <td>1.850129</td>\n",
       "      <td>69.973192</td>\n",
       "      <td>NaN</td>\n",
       "      <td>8.004939</td>\n",
       "      <td>NaN</td>\n",
       "      <td>4.08508</td>\n",
       "      <td>8.379529</td>\n",
       "      <td>39.995547</td>\n",
       "    </tr>\n",
       "    <tr>\n",
       "      <th>std</th>\n",
       "      <td>6.218057e+08</td>\n",
       "      <td>NaN</td>\n",
       "      <td>NaN</td>\n",
       "      <td>NaN</td>\n",
       "      <td>NaN</td>\n",
       "      <td>NaN</td>\n",
       "      <td>NaN</td>\n",
       "      <td>1.887583e+05</td>\n",
       "      <td>5.674162e+04</td>\n",
       "      <td>88.492706</td>\n",
       "      <td>688.628479</td>\n",
       "      <td>NaN</td>\n",
       "      <td>4.233907</td>\n",
       "      <td>NaN</td>\n",
       "      <td>6.43922</td>\n",
       "      <td>174.015737</td>\n",
       "      <td>17.414458</td>\n",
       "    </tr>\n",
       "    <tr>\n",
       "      <th>min</th>\n",
       "      <td>3.940900e+04</td>\n",
       "      <td>NaN</td>\n",
       "      <td>NaN</td>\n",
       "      <td>NaN</td>\n",
       "      <td>NaN</td>\n",
       "      <td>NaN</td>\n",
       "      <td>NaN</td>\n",
       "      <td>1.000000e-02</td>\n",
       "      <td>0.000000e+00</td>\n",
       "      <td>0.000000</td>\n",
       "      <td>0.000000</td>\n",
       "      <td>NaN</td>\n",
       "      <td>0.000000</td>\n",
       "      <td>NaN</td>\n",
       "      <td>0.00000</td>\n",
       "      <td>0.000000</td>\n",
       "      <td>1.000000</td>\n",
       "    </tr>\n",
       "    <tr>\n",
       "      <th>25%</th>\n",
       "      <td>5.438962e+08</td>\n",
       "      <td>NaN</td>\n",
       "      <td>NaN</td>\n",
       "      <td>NaN</td>\n",
       "      <td>NaN</td>\n",
       "      <td>NaN</td>\n",
       "      <td>NaN</td>\n",
       "      <td>1.800000e+03</td>\n",
       "      <td>1.960000e+02</td>\n",
       "      <td>0.044000</td>\n",
       "      <td>5.000000</td>\n",
       "      <td>NaN</td>\n",
       "      <td>5.000000</td>\n",
       "      <td>NaN</td>\n",
       "      <td>0.00000</td>\n",
       "      <td>0.000000</td>\n",
       "      <td>30.000000</td>\n",
       "    </tr>\n",
       "    <tr>\n",
       "      <th>50%</th>\n",
       "      <td>1.078345e+09</td>\n",
       "      <td>NaN</td>\n",
       "      <td>NaN</td>\n",
       "      <td>NaN</td>\n",
       "      <td>NaN</td>\n",
       "      <td>NaN</td>\n",
       "      <td>NaN</td>\n",
       "      <td>4.000000e+03</td>\n",
       "      <td>1.310000e+03</td>\n",
       "      <td>1.000000</td>\n",
       "      <td>23.000000</td>\n",
       "      <td>NaN</td>\n",
       "      <td>7.000000</td>\n",
       "      <td>NaN</td>\n",
       "      <td>2.00000</td>\n",
       "      <td>0.000000</td>\n",
       "      <td>32.000000</td>\n",
       "    </tr>\n",
       "    <tr>\n",
       "      <th>75%</th>\n",
       "      <td>1.621596e+09</td>\n",
       "      <td>NaN</td>\n",
       "      <td>NaN</td>\n",
       "      <td>NaN</td>\n",
       "      <td>NaN</td>\n",
       "      <td>NaN</td>\n",
       "      <td>NaN</td>\n",
       "      <td>9.862000e+03</td>\n",
       "      <td>4.165000e+03</td>\n",
       "      <td>1.115640</td>\n",
       "      <td>59.000000</td>\n",
       "      <td>NaN</td>\n",
       "      <td>10.000000</td>\n",
       "      <td>NaN</td>\n",
       "      <td>6.00000</td>\n",
       "      <td>3.000000</td>\n",
       "      <td>48.390000</td>\n",
       "    </tr>\n",
       "    <tr>\n",
       "      <th>max</th>\n",
       "      <td>2.147460e+09</td>\n",
       "      <td>NaN</td>\n",
       "      <td>NaN</td>\n",
       "      <td>NaN</td>\n",
       "      <td>NaN</td>\n",
       "      <td>NaN</td>\n",
       "      <td>NaN</td>\n",
       "      <td>2.147484e+07</td>\n",
       "      <td>1.026684e+07</td>\n",
       "      <td>15066.000000</td>\n",
       "      <td>87142.000000</td>\n",
       "      <td>NaN</td>\n",
       "      <td>80.000000</td>\n",
       "      <td>NaN</td>\n",
       "      <td>149.00000</td>\n",
       "      <td>19311.000000</td>\n",
       "      <td>91.960000</td>\n",
       "    </tr>\n",
       "  </tbody>\n",
       "</table>\n",
       "</div>"
      ],
      "text/plain": [
       "          project id         name  \\\n",
       "count   4.595700e+04        45957   \n",
       "unique           NaN        45754   \n",
       "top              NaN  Black Storm   \n",
       "freq             NaN            3   \n",
       "mean    1.080800e+09          NaN   \n",
       "std     6.218057e+08          NaN   \n",
       "min     3.940900e+04          NaN   \n",
       "25%     5.438962e+08          NaN   \n",
       "50%     1.078345e+09          NaN   \n",
       "75%     1.621596e+09          NaN   \n",
       "max     2.147460e+09          NaN   \n",
       "\n",
       "                                                      url          category  \\\n",
       "count                                               45957             45957   \n",
       "unique                                              45814                14   \n",
       "top     http://www.kickstarter.com/projects/foriknowmy...  Film &amp; Video   \n",
       "freq                                                    2             13053   \n",
       "mean                                                  NaN               NaN   \n",
       "std                                                   NaN               NaN   \n",
       "min                                                   NaN               NaN   \n",
       "25%                                                   NaN               NaN   \n",
       "50%                                                   NaN               NaN   \n",
       "75%                                                   NaN               NaN   \n",
       "max                                                   NaN               NaN   \n",
       "\n",
       "        subcategory         location      status          goal       pledged  \\\n",
       "count         45957            44635       45957  4.595700e+04  4.594500e+04   \n",
       "unique           51             4849           5           NaN           NaN   \n",
       "top     Documentary  Los Angeles, CA  successful           NaN           NaN   \n",
       "freq           4012             3927       22969           NaN           NaN   \n",
       "mean            NaN              NaN         NaN  1.194271e+04  4.980750e+03   \n",
       "std             NaN              NaN         NaN  1.887583e+05  5.674162e+04   \n",
       "min             NaN              NaN         NaN  1.000000e-02  0.000000e+00   \n",
       "25%             NaN              NaN         NaN  1.800000e+03  1.960000e+02   \n",
       "50%             NaN              NaN         NaN  4.000000e+03  1.310000e+03   \n",
       "75%             NaN              NaN         NaN  9.862000e+03  4.165000e+03   \n",
       "max             NaN              NaN         NaN  2.147484e+07  1.026684e+07   \n",
       "\n",
       "        funded percentage       backers                      funded date  \\\n",
       "count        45957.000000  45957.000000                            45957   \n",
       "unique                NaN           NaN                            41068   \n",
       "top                   NaN           NaN  Sun, 01 Jan 2012 04:59:00 -0000   \n",
       "freq                  NaN           NaN                               44   \n",
       "mean             1.850129     69.973192                              NaN   \n",
       "std             88.492706    688.628479                              NaN   \n",
       "min              0.000000      0.000000                              NaN   \n",
       "25%              0.044000      5.000000                              NaN   \n",
       "50%              1.000000     23.000000                              NaN   \n",
       "75%              1.115640     59.000000                              NaN   \n",
       "max          15066.000000  87142.000000                              NaN   \n",
       "\n",
       "              levels                      reward levels      updates  \\\n",
       "count   45957.000000                              45898  45957.00000   \n",
       "unique           NaN                              28378          NaN   \n",
       "top              NaN  $10,$25,$50,$100,$250,$500,$1,000          NaN   \n",
       "freq             NaN                                369          NaN   \n",
       "mean        8.004939                                NaN      4.08508   \n",
       "std         4.233907                                NaN      6.43922   \n",
       "min         0.000000                                NaN      0.00000   \n",
       "25%         5.000000                                NaN      0.00000   \n",
       "50%         7.000000                                NaN      2.00000   \n",
       "75%        10.000000                                NaN      6.00000   \n",
       "max        80.000000                                NaN    149.00000   \n",
       "\n",
       "            comments      duration  \n",
       "count   45957.000000  45957.000000  \n",
       "unique           NaN           NaN  \n",
       "top              NaN           NaN  \n",
       "freq             NaN           NaN  \n",
       "mean        8.379529     39.995547  \n",
       "std       174.015737     17.414458  \n",
       "min         0.000000      1.000000  \n",
       "25%         0.000000     30.000000  \n",
       "50%         0.000000     32.000000  \n",
       "75%         3.000000     48.390000  \n",
       "max     19311.000000     91.960000  "
      ]
     },
     "execution_count": 6,
     "metadata": {},
     "output_type": "execute_result"
    }
   ],
   "source": [
    "Kickstarterscrape.describe(include='all')"
   ]
  },
  {
   "cell_type": "code",
   "execution_count": 7,
   "metadata": {},
   "outputs": [
    {
     "data": {
      "text/plain": [
       "project id             int64\n",
       "name                  object\n",
       "url                   object\n",
       "category              object\n",
       "subcategory           object\n",
       "location              object\n",
       "status                object\n",
       "goal                 float64\n",
       "pledged              float64\n",
       "funded percentage    float64\n",
       "backers                int64\n",
       "funded date           object\n",
       "levels                 int64\n",
       "reward levels         object\n",
       "updates                int64\n",
       "comments               int64\n",
       "duration             float64\n",
       "dtype: object"
      ]
     },
     "execution_count": 7,
     "metadata": {},
     "output_type": "execute_result"
    }
   ],
   "source": [
    "Kickstarterscrape.dtypes"
   ]
  },
  {
   "cell_type": "markdown",
   "metadata": {},
   "source": [
    "## Some categorical columns need to be converted into numeric. and strip any sign out of it like $"
   ]
  },
  {
   "cell_type": "code",
   "execution_count": 8,
   "metadata": {},
   "outputs": [
    {
     "data": {
      "text/plain": [
       "0                 $25,$50,$100,$250,$500,$1,000,$2,500\n",
       "1                                    $1,$5,$10,$25,$50\n",
       "2    $1,$10,$25,$40,$50,$100,$250,$1,000,$1,337,$9,001\n",
       "3    $1,$10,$25,$30,$50,$75,$85,$100,$110,$250,$500...\n",
       "4                           $10,$25,$50,$100,$150,$250\n",
       "Name: reward levels, dtype: object"
      ]
     },
     "execution_count": 8,
     "metadata": {},
     "output_type": "execute_result"
    }
   ],
   "source": [
    "Kickstarterscrape['reward levels'].head()"
   ]
  },
  {
   "cell_type": "code",
   "execution_count": 9,
   "metadata": {},
   "outputs": [],
   "source": [
    "def dollars_to_float(value):\n",
    "\n",
    "    # try to convert the inputted value to a float\n",
    "    try:\n",
    "        return float(value.strip('$').rstrip(','))\n",
    "        #return float(value.replace('$', \"\").replace(',',\"\"))\n",
    "\n",
    "    # in the case of the value being a null value, we simply return a null\n",
    "    except:\n",
    "        return np.nan\n",
    "\n",
    "\n",
    "Kickstarterscrape['reward levels'] = Kickstarterscrape['reward levels'].apply(dollars_to_float)"
   ]
  },
  {
   "cell_type": "code",
   "execution_count": 10,
   "metadata": {},
   "outputs": [
    {
     "data": {
      "text/plain": [
       "0   NaN\n",
       "1   NaN\n",
       "2   NaN\n",
       "3   NaN\n",
       "4   NaN\n",
       "Name: reward levels, dtype: float64"
      ]
     },
     "execution_count": 10,
     "metadata": {},
     "output_type": "execute_result"
    }
   ],
   "source": [
    "Kickstarterscrape['reward levels'].head()"
   ]
  },
  {
   "cell_type": "code",
   "execution_count": 11,
   "metadata": {},
   "outputs": [
    {
     "data": {
      "text/plain": [
       "(45815, (45957, 17))"
      ]
     },
     "execution_count": 11,
     "metadata": {},
     "output_type": "execute_result"
    }
   ],
   "source": [
    "len(Kickstarterscrape[\"project id\"].unique()) , Kickstarterscrape.shape\n",
    "\n",
    "#we found out there is 142 has a duplicate project id "
   ]
  },
  {
   "cell_type": "code",
   "execution_count": 12,
   "metadata": {},
   "outputs": [
    {
     "data": {
      "text/plain": [
       "89"
      ]
     },
     "execution_count": 12,
     "metadata": {},
     "output_type": "execute_result"
    }
   ],
   "source": [
    "#Review for possible duplicates and erroneous data.\n",
    "Kickstarterscrape.duplicated().sum()"
   ]
  },
  {
   "cell_type": "code",
   "execution_count": 13,
   "metadata": {},
   "outputs": [],
   "source": [
    "#remove all the duplicated data based on id\n",
    "Kickstarterscrape.drop_duplicates(subset =\"project id\", \n",
    "                     keep = False, inplace = True) "
   ]
  },
  {
   "cell_type": "code",
   "execution_count": 14,
   "metadata": {},
   "outputs": [
    {
     "data": {
      "text/plain": [
       "0"
      ]
     },
     "execution_count": 14,
     "metadata": {},
     "output_type": "execute_result"
    }
   ],
   "source": [
    "Kickstarterscrape.duplicated().sum()"
   ]
  },
  {
   "cell_type": "code",
   "execution_count": 15,
   "metadata": {},
   "outputs": [
    {
     "data": {
      "text/plain": [
       "project id               0\n",
       "name                     0\n",
       "url                      0\n",
       "category                 0\n",
       "subcategory              0\n",
       "location              1314\n",
       "status                   0\n",
       "goal                     0\n",
       "pledged                 12\n",
       "funded percentage        0\n",
       "backers                  0\n",
       "funded date              0\n",
       "levels                   0\n",
       "reward levels        44608\n",
       "updates                  0\n",
       "comments                 0\n",
       "duration                 0\n",
       "dtype: int64"
      ]
     },
     "execution_count": 15,
     "metadata": {},
     "output_type": "execute_result"
    }
   ],
   "source": [
    "Kickstarterscrape.isnull().sum()"
   ]
  },
  {
   "cell_type": "code",
   "execution_count": 16,
   "metadata": {},
   "outputs": [],
   "source": [
    "#the pledge is like formal promise from the organization to keep a promise or deal with issues.\n",
    "#we need to drop null value becuase it will not help us. \n",
    "\n",
    "Kickstarterscrape = Kickstarterscrape[pd.notnull(Kickstarterscrape['pledged'])]"
   ]
  },
  {
   "cell_type": "code",
   "execution_count": 17,
   "metadata": {},
   "outputs": [
    {
     "data": {
      "text/plain": [
       "(45661, 17)"
      ]
     },
     "execution_count": 17,
     "metadata": {},
     "output_type": "execute_result"
    }
   ],
   "source": [
    "Kickstarterscrape.shape"
   ]
  },
  {
   "cell_type": "code",
   "execution_count": 18,
   "metadata": {},
   "outputs": [
    {
     "data": {
      "text/plain": [
       "project id               0\n",
       "name                     0\n",
       "url                      0\n",
       "category                 0\n",
       "subcategory              0\n",
       "location              1314\n",
       "status                   0\n",
       "goal                     0\n",
       "pledged                  0\n",
       "funded percentage        0\n",
       "backers                  0\n",
       "funded date              0\n",
       "levels                   0\n",
       "reward levels        44596\n",
       "updates                  0\n",
       "comments                 0\n",
       "duration                 0\n",
       "dtype: int64"
      ]
     },
     "execution_count": 18,
     "metadata": {},
     "output_type": "execute_result"
    }
   ],
   "source": [
    "Kickstarterscrape.isnull().sum()"
   ]
  },
  {
   "cell_type": "markdown",
   "metadata": {},
   "source": [
    "## Filter data for analysis "
   ]
  },
  {
   "cell_type": "markdown",
   "metadata": {},
   "source": [
    "we need to select the day/time/ month that is >2012 "
   ]
  },
  {
   "cell_type": "code",
   "execution_count": 19,
   "metadata": {},
   "outputs": [
    {
     "data": {
      "text/plain": [
       "(45661, 17)"
      ]
     },
     "execution_count": 19,
     "metadata": {},
     "output_type": "execute_result"
    }
   ],
   "source": [
    "Kickstarterscrape.shape"
   ]
  },
  {
   "cell_type": "code",
   "execution_count": 20,
   "metadata": {},
   "outputs": [
    {
     "data": {
      "text/plain": [
       "Index(['project id', 'name', 'url', 'category', 'subcategory', 'location',\n",
       "       'status', 'goal', 'pledged', 'funded percentage', 'backers',\n",
       "       'funded date', 'levels', 'reward levels', 'updates', 'comments',\n",
       "       'duration'],\n",
       "      dtype='object')"
      ]
     },
     "execution_count": 20,
     "metadata": {},
     "output_type": "execute_result"
    }
   ],
   "source": [
    "Kickstarterscrape.columns"
   ]
  },
  {
   "cell_type": "code",
   "execution_count": 21,
   "metadata": {},
   "outputs": [
    {
     "data": {
      "text/html": [
       "<div>\n",
       "<style scoped>\n",
       "    .dataframe tbody tr th:only-of-type {\n",
       "        vertical-align: middle;\n",
       "    }\n",
       "\n",
       "    .dataframe tbody tr th {\n",
       "        vertical-align: top;\n",
       "    }\n",
       "\n",
       "    .dataframe thead th {\n",
       "        text-align: right;\n",
       "    }\n",
       "</style>\n",
       "<table border=\"1\" class=\"dataframe\">\n",
       "  <thead>\n",
       "    <tr style=\"text-align: right;\">\n",
       "      <th></th>\n",
       "      <th>count</th>\n",
       "      <th>mean</th>\n",
       "      <th>std</th>\n",
       "      <th>min</th>\n",
       "      <th>25%</th>\n",
       "      <th>50%</th>\n",
       "      <th>75%</th>\n",
       "      <th>max</th>\n",
       "    </tr>\n",
       "  </thead>\n",
       "  <tbody>\n",
       "    <tr>\n",
       "      <th>project id</th>\n",
       "      <td>45661.0</td>\n",
       "      <td>1.074152e+09</td>\n",
       "      <td>6.180320e+08</td>\n",
       "      <td>39409.00</td>\n",
       "      <td>5.405300e+08</td>\n",
       "      <td>1.070694e+09</td>\n",
       "      <td>1.611202e+09</td>\n",
       "      <td>2.147460e+09</td>\n",
       "    </tr>\n",
       "    <tr>\n",
       "      <th>goal</th>\n",
       "      <td>45661.0</td>\n",
       "      <td>1.194629e+04</td>\n",
       "      <td>1.893493e+05</td>\n",
       "      <td>0.01</td>\n",
       "      <td>1.800000e+03</td>\n",
       "      <td>4.000000e+03</td>\n",
       "      <td>9.850000e+03</td>\n",
       "      <td>2.147484e+07</td>\n",
       "    </tr>\n",
       "    <tr>\n",
       "      <th>pledged</th>\n",
       "      <td>45661.0</td>\n",
       "      <td>4.990760e+03</td>\n",
       "      <td>5.691616e+04</td>\n",
       "      <td>0.00</td>\n",
       "      <td>1.950000e+02</td>\n",
       "      <td>1.310000e+03</td>\n",
       "      <td>4.159000e+03</td>\n",
       "      <td>1.026684e+07</td>\n",
       "    </tr>\n",
       "    <tr>\n",
       "      <th>funded percentage</th>\n",
       "      <td>45661.0</td>\n",
       "      <td>1.844529e+00</td>\n",
       "      <td>8.875988e+01</td>\n",
       "      <td>0.00</td>\n",
       "      <td>4.375000e-02</td>\n",
       "      <td>1.000000e+00</td>\n",
       "      <td>1.115401e+00</td>\n",
       "      <td>1.506600e+04</td>\n",
       "    </tr>\n",
       "    <tr>\n",
       "      <th>backers</th>\n",
       "      <td>45661.0</td>\n",
       "      <td>6.957651e+01</td>\n",
       "      <td>6.896721e+02</td>\n",
       "      <td>0.00</td>\n",
       "      <td>5.000000e+00</td>\n",
       "      <td>2.300000e+01</td>\n",
       "      <td>5.900000e+01</td>\n",
       "      <td>8.714200e+04</td>\n",
       "    </tr>\n",
       "    <tr>\n",
       "      <th>levels</th>\n",
       "      <td>45661.0</td>\n",
       "      <td>8.000679e+00</td>\n",
       "      <td>4.230795e+00</td>\n",
       "      <td>0.00</td>\n",
       "      <td>5.000000e+00</td>\n",
       "      <td>7.000000e+00</td>\n",
       "      <td>1.000000e+01</td>\n",
       "      <td>8.000000e+01</td>\n",
       "    </tr>\n",
       "    <tr>\n",
       "      <th>reward levels</th>\n",
       "      <td>1065.0</td>\n",
       "      <td>3.242629e+01</td>\n",
       "      <td>6.903557e+01</td>\n",
       "      <td>1.00</td>\n",
       "      <td>5.000000e+00</td>\n",
       "      <td>1.500000e+01</td>\n",
       "      <td>2.500000e+01</td>\n",
       "      <td>9.500000e+02</td>\n",
       "    </tr>\n",
       "    <tr>\n",
       "      <th>updates</th>\n",
       "      <td>45661.0</td>\n",
       "      <td>4.080200e+00</td>\n",
       "      <td>6.437251e+00</td>\n",
       "      <td>0.00</td>\n",
       "      <td>0.000000e+00</td>\n",
       "      <td>2.000000e+00</td>\n",
       "      <td>6.000000e+00</td>\n",
       "      <td>1.490000e+02</td>\n",
       "    </tr>\n",
       "    <tr>\n",
       "      <th>comments</th>\n",
       "      <td>45661.0</td>\n",
       "      <td>8.191980e+00</td>\n",
       "      <td>1.714484e+02</td>\n",
       "      <td>0.00</td>\n",
       "      <td>0.000000e+00</td>\n",
       "      <td>0.000000e+00</td>\n",
       "      <td>3.000000e+00</td>\n",
       "      <td>1.931100e+04</td>\n",
       "    </tr>\n",
       "    <tr>\n",
       "      <th>duration</th>\n",
       "      <td>45661.0</td>\n",
       "      <td>3.999448e+01</td>\n",
       "      <td>1.742802e+01</td>\n",
       "      <td>1.00</td>\n",
       "      <td>3.000000e+01</td>\n",
       "      <td>3.199000e+01</td>\n",
       "      <td>4.840000e+01</td>\n",
       "      <td>9.196000e+01</td>\n",
       "    </tr>\n",
       "  </tbody>\n",
       "</table>\n",
       "</div>"
      ],
      "text/plain": [
       "                     count          mean           std       min  \\\n",
       "project id         45661.0  1.074152e+09  6.180320e+08  39409.00   \n",
       "goal               45661.0  1.194629e+04  1.893493e+05      0.01   \n",
       "pledged            45661.0  4.990760e+03  5.691616e+04      0.00   \n",
       "funded percentage  45661.0  1.844529e+00  8.875988e+01      0.00   \n",
       "backers            45661.0  6.957651e+01  6.896721e+02      0.00   \n",
       "levels             45661.0  8.000679e+00  4.230795e+00      0.00   \n",
       "reward levels       1065.0  3.242629e+01  6.903557e+01      1.00   \n",
       "updates            45661.0  4.080200e+00  6.437251e+00      0.00   \n",
       "comments           45661.0  8.191980e+00  1.714484e+02      0.00   \n",
       "duration           45661.0  3.999448e+01  1.742802e+01      1.00   \n",
       "\n",
       "                            25%           50%           75%           max  \n",
       "project id         5.405300e+08  1.070694e+09  1.611202e+09  2.147460e+09  \n",
       "goal               1.800000e+03  4.000000e+03  9.850000e+03  2.147484e+07  \n",
       "pledged            1.950000e+02  1.310000e+03  4.159000e+03  1.026684e+07  \n",
       "funded percentage  4.375000e-02  1.000000e+00  1.115401e+00  1.506600e+04  \n",
       "backers            5.000000e+00  2.300000e+01  5.900000e+01  8.714200e+04  \n",
       "levels             5.000000e+00  7.000000e+00  1.000000e+01  8.000000e+01  \n",
       "reward levels      5.000000e+00  1.500000e+01  2.500000e+01  9.500000e+02  \n",
       "updates            0.000000e+00  2.000000e+00  6.000000e+00  1.490000e+02  \n",
       "comments           0.000000e+00  0.000000e+00  3.000000e+00  1.931100e+04  \n",
       "duration           3.000000e+01  3.199000e+01  4.840000e+01  9.196000e+01  "
      ]
     },
     "execution_count": 21,
     "metadata": {},
     "output_type": "execute_result"
    }
   ],
   "source": [
    "Kickstarterscrape.describe().T"
   ]
  },
  {
   "cell_type": "markdown",
   "metadata": {},
   "source": [
    "## what is the mean (total) pledge that projects get ? "
   ]
  },
  {
   "cell_type": "code",
   "execution_count": 22,
   "metadata": {},
   "outputs": [
    {
     "data": {
      "text/plain": [
       "4990.759685508421"
      ]
     },
     "execution_count": 22,
     "metadata": {},
     "output_type": "execute_result"
    }
   ],
   "source": [
    "x = Kickstarterscrape[\"pledged\"].values\n",
    "x.mean(axis = 0)"
   ]
  },
  {
   "cell_type": "code",
   "execution_count": 23,
   "metadata": {},
   "outputs": [
    {
     "data": {
      "text/plain": [
       "56916.15812971811"
      ]
     },
     "execution_count": 23,
     "metadata": {},
     "output_type": "execute_result"
    }
   ],
   "source": [
    "Kickstarterscrape['pledged'].std()"
   ]
  },
  {
   "cell_type": "markdown",
   "metadata": {},
   "source": [
    "## Create a histogram that shows the distribution for number of backers, what is the skew of the distribution? "
   ]
  },
  {
   "cell_type": "code",
   "execution_count": 24,
   "metadata": {},
   "outputs": [
    {
     "data": {
      "text/plain": [
       "project id            -0.006195\n",
       "goal                 101.216942\n",
       "pledged              138.084268\n",
       "funded percentage    140.447496\n",
       "backers               87.625234\n",
       "levels                 2.578600\n",
       "reward levels          6.203404\n",
       "updates                4.014642\n",
       "comments              71.522540\n",
       "duration               1.078991\n",
       "dtype: float64"
      ]
     },
     "execution_count": 24,
     "metadata": {},
     "output_type": "execute_result"
    }
   ],
   "source": [
    "Kickstarterscrape.skew(axis=None, skipna=None, level=None, numeric_only=None)"
   ]
  },
  {
   "cell_type": "code",
   "execution_count": 25,
   "metadata": {},
   "outputs": [
    {
     "data": {
      "text/plain": [
       "69.5765094938788"
      ]
     },
     "execution_count": 25,
     "metadata": {},
     "output_type": "execute_result"
    }
   ],
   "source": [
    "x = Kickstarterscrape[\"backers\"].values\n",
    "x.mean(axis = 0)"
   ]
  },
  {
   "cell_type": "code",
   "execution_count": 26,
   "metadata": {},
   "outputs": [
    {
     "data": {
      "text/plain": [
       "689.6721377891567"
      ]
     },
     "execution_count": 26,
     "metadata": {},
     "output_type": "execute_result"
    }
   ],
   "source": [
    "Kickstarterscrape['backers'].std()"
   ]
  },
  {
   "cell_type": "code",
   "execution_count": 27,
   "metadata": {},
   "outputs": [
    {
     "data": {
      "text/plain": [
       "project id            -0.006195\n",
       "goal                 101.216942\n",
       "pledged              138.084268\n",
       "funded percentage    140.447496\n",
       "backers               87.625234\n",
       "levels                 2.578600\n",
       "reward levels          6.203404\n",
       "updates                4.014642\n",
       "comments              71.522540\n",
       "duration               1.078991\n",
       "dtype: float64"
      ]
     },
     "execution_count": 27,
     "metadata": {},
     "output_type": "execute_result"
    }
   ],
   "source": [
    "from scipy.stats import skew\n",
    "from scipy.stats import kurtosis\n",
    "Kickstarterscrape.skew(axis = 0, skipna = True) "
   ]
  },
  {
   "cell_type": "code",
   "execution_count": 28,
   "metadata": {},
   "outputs": [
    {
     "data": {
      "text/plain": [
       "project id            -0.006195\n",
       "goal                 101.216942\n",
       "pledged              138.084268\n",
       "funded percentage    140.447496\n",
       "backers               87.625234\n",
       "levels                 2.578600\n",
       "reward levels          6.203404\n",
       "updates                4.014642\n",
       "comments              71.522540\n",
       "duration               1.078991\n",
       "dtype: float64"
      ]
     },
     "execution_count": 28,
     "metadata": {},
     "output_type": "execute_result"
    }
   ],
   "source": [
    "x = np.linspace( -5, 5, 1000 )\n",
    "y = 1./(np.sqrt(2.*np.pi)) * np.exp( -.5*(x)**2  )  # normal distribution\n",
    "plt.show()\n",
    "Kickstarterscrape.skew(axis=None, skipna=None, level=None, numeric_only=None)\n",
    "\n",
    "#Five-number summary:\n",
    "#min = minimum value\n",
    "#25% = first quartile (Q1) = median of the lower half of the data\n",
    "#50% = second quartile (Q2) = median of the data\n",
    "#75% = third quartile (Q3) = median of the upper half of the data\n",
    "#max = maximum value\n",
    "#(It's more useful than mean and standard deviation for describing skewed distributions.)"
   ]
  },
  {
   "cell_type": "code",
   "execution_count": 29,
   "metadata": {},
   "outputs": [
    {
     "data": {
      "image/png": "[encoded data removed]",
      "text/plain": [
       "<Figure size 432x288 with 1 Axes>"
      ]
     },
     "metadata": {
      "needs_background": "light"
     },
     "output_type": "display_data"
    },
    {
     "data": {
      "text/plain": [
       "project id            -0.006195\n",
       "goal                 101.216942\n",
       "pledged              138.084268\n",
       "funded percentage    140.447496\n",
       "backers               87.625234\n",
       "levels                 2.578600\n",
       "reward levels          6.203404\n",
       "updates                4.014642\n",
       "comments              71.522540\n",
       "duration               1.078991\n",
       "dtype: float64"
      ]
     },
     "execution_count": 29,
     "metadata": {},
     "output_type": "execute_result"
    }
   ],
   "source": [
    "import scipy.stats as stats\n",
    " \n",
    "#convert pandas DataFrame object to numpy array and sort\n",
    "h = np.asarray(Kickstarterscrape['backers'].dropna())\n",
    "h = sorted(h)\n",
    " \n",
    "#use the scipy stats module to fit a normal distirbution with same mean and standard deviation\n",
    "fit = stats.norm.pdf(h, np.mean(h), np.std(h)) \n",
    " \n",
    "#plot both series on the histogram\n",
    "plt.plot(h,fit,'-',linewidth = 2)\n",
    "plt.hist(h,normed=True,bins = 20)      \n",
    "plt.show()\n",
    "\n",
    "Kickstarterscrape.skew(axis=None, skipna=None, level=None, numeric_only=None)\n"
   ]
  },
  {
   "cell_type": "code",
   "execution_count": 30,
   "metadata": {},
   "outputs": [
    {
     "data": {
      "image/png": "[encoded data removed]",
      "text/plain": [
       "<Figure size 288x288 with 1 Axes>"
      ]
     },
     "metadata": {
      "needs_background": "light"
     },
     "output_type": "display_data"
    }
   ],
   "source": [
    "Kickstarterscrape[\"backers\"].hist(figsize=(4,4), bins=8000, edgecolor=\"#000000\");\n",
    "plt.xlabel('backers')\n",
    "plt.ylabel('count')\n",
    "plt.title('Total distribution in backers')\n",
    "plt.ylim(0,8000);\n",
    "plt.xlim(-1,1000);\n",
    "plt.style.use(\"ggplot\")\n",
    "plt.plot(h,fit,'-',linewidth = 2)     \n",
    "plt.show()"
   ]
  },
  {
   "cell_type": "code",
   "execution_count": 31,
   "metadata": {},
   "outputs": [
    {
     "data": {
      "image/png": "[encoded data removed]",
      "text/plain": [
       "<Figure size 432x288 with 1 Axes>"
      ]
     },
     "metadata": {},
     "output_type": "display_data"
    }
   ],
   "source": [
    "sns.distplot(Kickstarterscrape['backers']);\n",
    "plt.xlabel('backers')\n",
    "plt.ylabel('count')\n",
    "plt.title('Total distribution in backers')\n",
    "plt.ylim(0,1000);\n",
    "plt.xlim(-1,1000);\n",
    "plt.style.use(\"ggplot\")"
   ]
  },
  {
   "cell_type": "markdown",
   "metadata": {},
   "source": [
    "## What is the best lenght of time to run a successful campaign? "
   ]
  },
  {
   "cell_type": "code",
   "execution_count": 34,
   "metadata": {},
   "outputs": [
    {
     "name": "stdout",
     "output_type": "stream",
     "text": [
      "       status   duration\n",
      "1      failed  42.978156\n",
      "0    canceled  39.432456\n",
      "3  successful  37.962447\n",
      "2        live  37.454123\n",
      "4   suspended  30.000000\n"
     ]
    },
    {
     "data": {
      "image/png": "[encoded data removed]",
      "text/plain": [
       "<Figure size 432x288 with 1 Axes>"
      ]
     },
     "metadata": {},
     "output_type": "display_data"
    }
   ],
   "source": [
    "# you need to do dorup by based on status or select the successul status only. ( overall figure)\n",
    "\n",
    "campagin_status = Kickstarterscrape[['status', 'duration']].groupby(['status'],as_index=False).mean().sort_values(by='duration',ascending=False)\n",
    "print(campagin_status)\n",
    "plt.bar(campagin_status.iloc[:,0],campagin_status.iloc[:,1],color=['orange','blue','green','red','black'])\n",
    "plt.xlabel('status')\n",
    "plt.ylabel('duration')\n",
    "plt.title('The duration for running campagin')\n",
    "plt.show()"
   ]
  },
  {
   "cell_type": "markdown",
   "metadata": {},
   "source": [
    "to run a successful campagin:\n",
    " - select the successful campgin only by drop or remove the other status. \n",
    " - then see the successful status based on pledged "
   ]
  },
  {
   "cell_type": "code",
   "execution_count": 35,
   "metadata": {},
   "outputs": [
    {
     "data": {
      "text/plain": [
       "successful    22835\n",
       "failed        18882\n",
       "live           3883\n",
       "canceled         57\n",
       "suspended         4\n",
       "Name: status, dtype: int64"
      ]
     },
     "execution_count": 35,
     "metadata": {},
     "output_type": "execute_result"
    }
   ],
   "source": [
    "Kickstarterscrape.status.value_counts() "
   ]
  },
  {
   "cell_type": "code",
   "execution_count": 36,
   "metadata": {},
   "outputs": [],
   "source": [
    "Kickstarterscrape =  Kickstarterscrape[Kickstarterscrape['status'].str.contains(\"successful\")]"
   ]
  },
  {
   "cell_type": "code",
   "execution_count": 37,
   "metadata": {},
   "outputs": [
    {
     "data": {
      "text/plain": [
       "(0    successful\n",
       " 3    successful\n",
       " 5    successful\n",
       " 7    successful\n",
       " 8    successful\n",
       " Name: status, dtype: object, 45948    successful\n",
       " 45951    successful\n",
       " 45952    successful\n",
       " 45954    successful\n",
       " 45956    successful\n",
       " Name: status, dtype: object)"
      ]
     },
     "execution_count": 37,
     "metadata": {},
     "output_type": "execute_result"
    }
   ],
   "source": [
    "Kickstarterscrape['status'].head(5) , Kickstarterscrape['status'].tail(5)"
   ]
  },
  {
   "cell_type": "code",
   "execution_count": 38,
   "metadata": {},
   "outputs": [
    {
     "data": {
      "text/plain": [
       "22835"
      ]
     },
     "execution_count": 38,
     "metadata": {},
     "output_type": "execute_result"
    }
   ],
   "source": [
    "len(Kickstarterscrape)"
   ]
  },
  {
   "cell_type": "markdown",
   "metadata": {},
   "source": [
    "## Is the duration variable normally distributed ? "
   ]
  },
  {
   "cell_type": "code",
   "execution_count": 39,
   "metadata": {},
   "outputs": [
    {
     "data": {
      "text/plain": [
       "30.00    5022\n",
       "60.00     905\n",
       "45.00     789\n",
       "29.96     682\n",
       "40.00     388\n",
       "30.04     384\n",
       "60.04     333\n",
       "31.00     297\n",
       "59.96     288\n",
       "35.00     254\n",
       "21.00     233\n",
       "20.00     176\n",
       "90.00     176\n",
       "25.00     159\n",
       "44.96     154\n",
       "14.00     146\n",
       "45.04     145\n",
       "15.00     144\n",
       "30.96     131\n",
       "90.96     111\n",
       "32.00      96\n",
       "50.00      94\n",
       "60.96      90\n",
       "33.00      82\n",
       "40.04      78\n",
       "10.00      71\n",
       "28.00      69\n",
       "39.96      66\n",
       "31.96      65\n",
       "45.96      58\n",
       "         ... \n",
       "46.45       1\n",
       "42.05       1\n",
       "47.06       1\n",
       "50.31       1\n",
       "14.83       1\n",
       "63.62       1\n",
       "60.81       1\n",
       "71.99       1\n",
       "29.60       1\n",
       "51.92       1\n",
       "47.24       1\n",
       "69.24       1\n",
       "38.89       1\n",
       "23.31       1\n",
       "20.20       1\n",
       "44.22       1\n",
       "32.60       1\n",
       "60.22       1\n",
       "39.48       1\n",
       "46.70       1\n",
       "7.96        1\n",
       "34.80       1\n",
       "26.27       1\n",
       "44.24       1\n",
       "88.96       1\n",
       "13.72       1\n",
       "45.11       1\n",
       "37.39       1\n",
       "51.76       1\n",
       "56.92       1\n",
       "Name: duration, Length: 4740, dtype: int64"
      ]
     },
     "execution_count": 39,
     "metadata": {},
     "output_type": "execute_result"
    }
   ],
   "source": [
    "#you can see the noramal distribution by value.count \n",
    "\n",
    "Kickstarterscrape['duration'].value_counts()"
   ]
  },
  {
   "cell_type": "code",
   "execution_count": 40,
   "metadata": {},
   "outputs": [
    {
     "data": {
      "text/plain": [
       "Text(0.5, 1.0, 'Total distribution in duration')"
      ]
     },
     "execution_count": 40,
     "metadata": {},
     "output_type": "execute_result"
    },
    {
     "data": {
      "image/png": "[encoded data removed]",
      "text/plain": [
       "<Figure size 432x288 with 1 Axes>"
      ]
     },
     "metadata": {},
     "output_type": "display_data"
    }
   ],
   "source": [
    "sns.distplot(Kickstarterscrape['duration']);\n",
    "plt.xlabel('duration')\n",
    "plt.ylabel('count')\n",
    "plt.title('Total distribution in duration')\n"
   ]
  },
  {
   "cell_type": "code",
   "execution_count": 41,
   "metadata": {},
   "outputs": [
    {
     "data": {
      "image/png": "[encoded data removed]",
      "text/plain": [
       "<Figure size 432x288 with 1 Axes>"
      ]
     },
     "metadata": {},
     "output_type": "display_data"
    }
   ],
   "source": [
    "Kickstarterscrape.duration.plot(kind='hist', bins=20);\n",
    "plt.xlabel('duration');\n",
    "plt.ylabel('Frequency');\n",
    " "
   ]
  },
  {
   "cell_type": "code",
   "execution_count": 42,
   "metadata": {},
   "outputs": [
    {
     "data": {
      "text/plain": [
       "37.962446682723645"
      ]
     },
     "execution_count": 42,
     "metadata": {},
     "output_type": "execute_result"
    }
   ],
   "source": [
    "Kickstarterscrape.duration.mean()"
   ]
  },
  {
   "cell_type": "code",
   "execution_count": 43,
   "metadata": {},
   "outputs": [
    {
     "data": {
      "text/plain": [
       "0    30.0\n",
       "dtype: float64"
      ]
     },
     "execution_count": 43,
     "metadata": {},
     "output_type": "execute_result"
    }
   ],
   "source": [
    "Kickstarterscrape.duration.mode()"
   ]
  },
  {
   "cell_type": "code",
   "execution_count": 44,
   "metadata": {},
   "outputs": [
    {
     "data": {
      "text/plain": [
       "31.0"
      ]
     },
     "execution_count": 44,
     "metadata": {},
     "output_type": "execute_result"
    }
   ],
   "source": [
    "Kickstarterscrape.duration.median()"
   ]
  },
  {
   "cell_type": "code",
   "execution_count": 45,
   "metadata": {},
   "outputs": [
    {
     "data": {
      "text/plain": [
       "16.649702656916432"
      ]
     },
     "execution_count": 45,
     "metadata": {},
     "output_type": "execute_result"
    }
   ],
   "source": [
    "Kickstarterscrape.duration.std()"
   ]
  },
  {
   "cell_type": "markdown",
   "metadata": {},
   "source": [
    "if you could collect data on another attribute of these projects, what would it be and why ? "
   ]
  },
  {
   "cell_type": "markdown",
   "metadata": {},
   "source": [
    "It would be useful to use the xls files becuase i can calculate the mean, stdv, normal distribution or i can use SPSS programm altough it is piad programm but it is very useful for statistical analysis. "
   ]
  },
  {
   "cell_type": "markdown",
   "metadata": {},
   "source": [
    "what is the best lenght of time to run a successful Kickstarter campaigen ?"
   ]
  },
  {
   "cell_type": "code",
   "execution_count": 46,
   "metadata": {},
   "outputs": [
    {
     "data": {
      "image/png": "[encoded data removed]",
      "text/plain": [
       "<Figure size 432x288 with 1 Axes>"
      ]
     },
     "metadata": {},
     "output_type": "display_data"
    }
   ],
   "source": [
    "Kickstarterscrape.backers.plot(kind='hist', bins=10);\n",
    "plt.xlabel('backers');\n",
    "plt.ylabel('Frequency');"
   ]
  },
  {
   "cell_type": "code",
   "execution_count": 53,
   "metadata": {
    "scrolled": true
   },
   "outputs": [
    {
     "name": "stdout",
     "output_type": "stream",
     "text": [
      "       status   duration  funded percentage\n",
      "0  successful  37.962447           3.525732\n"
     ]
    }
   ],
   "source": [
    "campagin_status = Kickstarterscrape[['status', 'duration','funded percentage']]\n",
    ".groupby(['status'], as_index=False).mean().sort_values(by='duration',ascending=False)\n",
    "print(campagin_status)"
   ]
  },
  {
   "cell_type": "markdown",
   "metadata": {},
   "source": [
    "what is the ideal pledge goal ?"
   ]
  },
  {
   "cell_type": "code",
   "execution_count": 96,
   "metadata": {},
   "outputs": [
    {
     "data": {
      "text/html": [
       "<div>\n",
       "<style scoped>\n",
       "    .dataframe tbody tr th:only-of-type {\n",
       "        vertical-align: middle;\n",
       "    }\n",
       "\n",
       "    .dataframe tbody tr th {\n",
       "        vertical-align: top;\n",
       "    }\n",
       "\n",
       "    .dataframe thead th {\n",
       "        text-align: right;\n",
       "    }\n",
       "</style>\n",
       "<table border=\"1\" class=\"dataframe\">\n",
       "  <thead>\n",
       "    <tr style=\"text-align: right;\">\n",
       "      <th></th>\n",
       "      <th>category</th>\n",
       "      <th>goal</th>\n",
       "      <th>pledged</th>\n",
       "      <th>backers</th>\n",
       "      <th>funded percentage</th>\n",
       "    </tr>\n",
       "  </thead>\n",
       "  <tbody>\n",
       "    <tr>\n",
       "      <th>8</th>\n",
       "      <td>Games</td>\n",
       "      <td>12973.199362</td>\n",
       "      <td>36230.283892</td>\n",
       "      <td>765.977671</td>\n",
       "      <td>3.317035</td>\n",
       "    </tr>\n",
       "    <tr>\n",
       "      <th>12</th>\n",
       "      <td>Technology</td>\n",
       "      <td>11382.000418</td>\n",
       "      <td>31289.181185</td>\n",
       "      <td>352.592334</td>\n",
       "      <td>2.606655</td>\n",
       "    </tr>\n",
       "    <tr>\n",
       "      <th>3</th>\n",
       "      <td>Design</td>\n",
       "      <td>9035.838866</td>\n",
       "      <td>42939.970954</td>\n",
       "      <td>480.769018</td>\n",
       "      <td>7.579414</td>\n",
       "    </tr>\n",
       "    <tr>\n",
       "      <th>7</th>\n",
       "      <td>Food</td>\n",
       "      <td>7754.867812</td>\n",
       "      <td>9303.167951</td>\n",
       "      <td>117.285054</td>\n",
       "      <td>1.961126</td>\n",
       "    </tr>\n",
       "    <tr>\n",
       "      <th>5</th>\n",
       "      <td>Film &amp; Video</td>\n",
       "      <td>7228.549327</td>\n",
       "      <td>9235.699552</td>\n",
       "      <td>107.143498</td>\n",
       "      <td>1.272732</td>\n",
       "    </tr>\n",
       "  </tbody>\n",
       "</table>\n",
       "</div>"
      ],
      "text/plain": [
       "        category          goal       pledged     backers  funded percentage\n",
       "8          Games  12973.199362  36230.283892  765.977671           3.317035\n",
       "12    Technology  11382.000418  31289.181185  352.592334           2.606655\n",
       "3         Design   9035.838866  42939.970954  480.769018           7.579414\n",
       "7           Food   7754.867812   9303.167951  117.285054           1.961126\n",
       "5   Film & Video   7228.549327   9235.699552  107.143498           1.272732"
      ]
     },
     "execution_count": 96,
     "metadata": {},
     "output_type": "execute_result"
    }
   ],
   "source": [
    "#based on status you can detect the pledge goal.  \n",
    "\n",
    "campagin_goal = Kickstarterscrape[[ 'goal','pledged','backers',\n",
    "                                   'category','funded percentage']]\n",
    ".groupby(['category'],as_index=False).mean().sort_values(by='goal',ascending=False)\n",
    "campagin_goal.head(5)"
   ]
  },
  {
   "cell_type": "code",
   "execution_count": 97,
   "metadata": {},
   "outputs": [
    {
     "data": {
      "image/png": "[encoded data removed]",
      "text/plain": [
       "<Figure size 432x288 with 1 Axes>"
      ]
     },
     "metadata": {},
     "output_type": "display_data"
    }
   ],
   "source": [
    "plt.barh(campagin_goal.iloc[:,0],campagin_goal.iloc[:,1],color=['blue'])\n",
    "plt.xlabel('goal')\n",
    "plt.ylabel('category')\n",
    "plt.title('the goal pledged based on category')\n",
    "plt.xticks(rotation=0)\n",
    "plt.show()"
   ]
  },
  {
   "cell_type": "code",
   "execution_count": 100,
   "metadata": {},
   "outputs": [
    {
     "data": {
      "text/html": [
       "<div>\n",
       "<style scoped>\n",
       "    .dataframe tbody tr th:only-of-type {\n",
       "        vertical-align: middle;\n",
       "    }\n",
       "\n",
       "    .dataframe tbody tr th {\n",
       "        vertical-align: top;\n",
       "    }\n",
       "\n",
       "    .dataframe thead th {\n",
       "        text-align: right;\n",
       "    }\n",
       "</style>\n",
       "<table border=\"1\" class=\"dataframe\">\n",
       "  <thead>\n",
       "    <tr style=\"text-align: right;\">\n",
       "      <th></th>\n",
       "      <th>category</th>\n",
       "      <th>pledged</th>\n",
       "      <th>goal</th>\n",
       "    </tr>\n",
       "  </thead>\n",
       "  <tbody>\n",
       "    <tr>\n",
       "      <th>8</th>\n",
       "      <td>Games</td>\n",
       "      <td>36230.283892</td>\n",
       "      <td>12973.199362</td>\n",
       "    </tr>\n",
       "    <tr>\n",
       "      <th>12</th>\n",
       "      <td>Technology</td>\n",
       "      <td>31289.181185</td>\n",
       "      <td>11382.000418</td>\n",
       "    </tr>\n",
       "    <tr>\n",
       "      <th>3</th>\n",
       "      <td>Design</td>\n",
       "      <td>42939.970954</td>\n",
       "      <td>9035.838866</td>\n",
       "    </tr>\n",
       "    <tr>\n",
       "      <th>7</th>\n",
       "      <td>Food</td>\n",
       "      <td>9303.167951</td>\n",
       "      <td>7754.867812</td>\n",
       "    </tr>\n",
       "    <tr>\n",
       "      <th>5</th>\n",
       "      <td>Film &amp; Video</td>\n",
       "      <td>9235.699552</td>\n",
       "      <td>7228.549327</td>\n",
       "    </tr>\n",
       "  </tbody>\n",
       "</table>\n",
       "</div>"
      ],
      "text/plain": [
       "        category       pledged          goal\n",
       "8          Games  36230.283892  12973.199362\n",
       "12    Technology  31289.181185  11382.000418\n",
       "3         Design  42939.970954   9035.838866\n",
       "7           Food   9303.167951   7754.867812\n",
       "5   Film & Video   9235.699552   7228.549327"
      ]
     },
     "execution_count": 100,
     "metadata": {},
     "output_type": "execute_result"
    }
   ],
   "source": [
    "#based on pledged you can detect the goal.  \n",
    "\n",
    "campagin_pledged = Kickstarterscrape[['pledged', 'goal','category']]\n",
    ".groupby(['category'],as_index=False).mean().sort_values(by='goal',ascending=False)\n",
    "campagin_pledged.head(5)"
   ]
  },
  {
   "cell_type": "markdown",
   "metadata": {},
   "source": [
    "what the type of projects whould be most successful at getting funded? "
   ]
  },
  {
   "cell_type": "code",
   "execution_count": 93,
   "metadata": {},
   "outputs": [
    {
     "data": {
      "text/html": [
       "<div>\n",
       "<style scoped>\n",
       "    .dataframe tbody tr th:only-of-type {\n",
       "        vertical-align: middle;\n",
       "    }\n",
       "\n",
       "    .dataframe tbody tr th {\n",
       "        vertical-align: top;\n",
       "    }\n",
       "\n",
       "    .dataframe thead th {\n",
       "        text-align: right;\n",
       "    }\n",
       "</style>\n",
       "<table border=\"1\" class=\"dataframe\">\n",
       "  <thead>\n",
       "    <tr style=\"text-align: right;\">\n",
       "      <th></th>\n",
       "      <th></th>\n",
       "      <th>funded percentage</th>\n",
       "      <th>project id</th>\n",
       "    </tr>\n",
       "    <tr>\n",
       "      <th>category</th>\n",
       "      <th>subcategory</th>\n",
       "      <th></th>\n",
       "      <th></th>\n",
       "    </tr>\n",
       "  </thead>\n",
       "  <tbody>\n",
       "    <tr>\n",
       "      <th>Art</th>\n",
       "      <th>Conceptual Art</th>\n",
       "      <td>106.097354</td>\n",
       "      <td>1.027669e+09</td>\n",
       "    </tr>\n",
       "    <tr>\n",
       "      <th>Design</th>\n",
       "      <th>Graphic Design</th>\n",
       "      <td>19.206913</td>\n",
       "      <td>1.067820e+09</td>\n",
       "    </tr>\n",
       "    <tr>\n",
       "      <th rowspan=\"2\" valign=\"top\">Film &amp;amp; Video</th>\n",
       "      <th>Narrative Film</th>\n",
       "      <td>13.216970</td>\n",
       "      <td>1.114365e+09</td>\n",
       "    </tr>\n",
       "    <tr>\n",
       "      <th>Documentary</th>\n",
       "      <td>10.136208</td>\n",
       "      <td>1.098183e+09</td>\n",
       "    </tr>\n",
       "    <tr>\n",
       "      <th>Publishing</th>\n",
       "      <th>Publishing</th>\n",
       "      <td>8.045268</td>\n",
       "      <td>1.142758e+09</td>\n",
       "    </tr>\n",
       "  </tbody>\n",
       "</table>\n",
       "</div>"
      ],
      "text/plain": [
       "                                 funded percentage    project id\n",
       "category         subcategory                                    \n",
       "Art              Conceptual Art         106.097354  1.027669e+09\n",
       "Design           Graphic Design          19.206913  1.067820e+09\n",
       "Film &amp; Video Narrative Film          13.216970  1.114365e+09\n",
       "                 Documentary             10.136208  1.098183e+09\n",
       "Publishing       Publishing               8.045268  1.142758e+09"
      ]
     },
     "execution_count": 93,
     "metadata": {},
     "output_type": "execute_result"
    }
   ],
   "source": [
    "#name of project based on category and subcategory for most sucessful one. \n",
    "\n",
    "campagin_project = Kickstarterscrape[['category','subcategory','funded percentage',\n",
    "                                      'name','project id']].groupby(['category','subcategory'], \n",
    "as_index=True).mean().sort_values(by='funded percentage',ascending=False)\n",
    "campagin_project.head(5)  #here did not count the highest fund at all. need to do more work to analyse the data "
   ]
  },
  {
   "cell_type": "code",
   "execution_count": 95,
   "metadata": {},
   "outputs": [
    {
     "data": {
      "text/html": [
       "<div>\n",
       "<style scoped>\n",
       "    .dataframe tbody tr th:only-of-type {\n",
       "        vertical-align: middle;\n",
       "    }\n",
       "\n",
       "    .dataframe tbody tr th {\n",
       "        vertical-align: top;\n",
       "    }\n",
       "\n",
       "    .dataframe thead th {\n",
       "        text-align: right;\n",
       "    }\n",
       "</style>\n",
       "<table border=\"1\" class=\"dataframe\">\n",
       "  <thead>\n",
       "    <tr style=\"text-align: right;\">\n",
       "      <th></th>\n",
       "      <th>category</th>\n",
       "      <th>highest funded project</th>\n",
       "    </tr>\n",
       "  </thead>\n",
       "  <tbody>\n",
       "    <tr>\n",
       "      <th>0</th>\n",
       "      <td>Design</td>\n",
       "      <td>7.579414</td>\n",
       "    </tr>\n",
       "    <tr>\n",
       "      <th>1</th>\n",
       "      <td>Art</td>\n",
       "      <td>6.805052</td>\n",
       "    </tr>\n",
       "    <tr>\n",
       "      <th>2</th>\n",
       "      <td>Film &amp;amp; Video</td>\n",
       "      <td>5.273525</td>\n",
       "    </tr>\n",
       "    <tr>\n",
       "      <th>3</th>\n",
       "      <td>Comics</td>\n",
       "      <td>3.947579</td>\n",
       "    </tr>\n",
       "    <tr>\n",
       "      <th>4</th>\n",
       "      <td>Games</td>\n",
       "      <td>3.317035</td>\n",
       "    </tr>\n",
       "    <tr>\n",
       "      <th>5</th>\n",
       "      <td>Fashion</td>\n",
       "      <td>3.201011</td>\n",
       "    </tr>\n",
       "    <tr>\n",
       "      <th>6</th>\n",
       "      <td>Technology</td>\n",
       "      <td>2.606655</td>\n",
       "    </tr>\n",
       "    <tr>\n",
       "      <th>7</th>\n",
       "      <td>Publishing</td>\n",
       "      <td>2.452996</td>\n",
       "    </tr>\n",
       "    <tr>\n",
       "      <th>8</th>\n",
       "      <td>Food</td>\n",
       "      <td>1.961126</td>\n",
       "    </tr>\n",
       "    <tr>\n",
       "      <th>9</th>\n",
       "      <td>Theater</td>\n",
       "      <td>1.913194</td>\n",
       "    </tr>\n",
       "  </tbody>\n",
       "</table>\n",
       "</div>"
      ],
      "text/plain": [
       "           category  highest funded project\n",
       "0            Design                7.579414\n",
       "1               Art                6.805052\n",
       "2  Film &amp; Video                5.273525\n",
       "3            Comics                3.947579\n",
       "4             Games                3.317035\n",
       "5           Fashion                3.201011\n",
       "6        Technology                2.606655\n",
       "7        Publishing                2.452996\n",
       "8              Food                1.961126\n",
       "9           Theater                1.913194"
      ]
     },
     "execution_count": 95,
     "metadata": {},
     "output_type": "execute_result"
    }
   ],
   "source": [
    "best_project=Kickstarterscrape.groupby('category')['funded percentage']\n",
    ".mean().sort_values(ascending=False).\\\n",
    "head(20).reset_index(name='highest funded project')\n",
    "best_project.head(10) #type of project that get the highest funded "
   ]
  },
  {
   "cell_type": "code",
   "execution_count": 104,
   "metadata": {},
   "outputs": [
    {
     "data": {
      "image/png": "[encoded data removed]",
      "text/plain": [
       "<Figure size 432x288 with 1 Axes>"
      ]
     },
     "metadata": {},
     "output_type": "display_data"
    }
   ],
   "source": [
    "plt.barh(best_project.iloc[:,0],best_project.iloc[:,1],color=['green'])\n",
    "plt.xlabel('highest funded project')\n",
    "plt.ylabel('category')\n",
    "plt.title('the highest funded project based on category')\n",
    "plt.xticks(rotation=0)\n",
    "plt.show()"
   ]
  },
  {
   "cell_type": "markdown",
   "metadata": {},
   "source": [
    "Is there an ideal month/day/time to launch a campagin ? "
   ]
  },
  {
   "cell_type": "code",
   "execution_count": 105,
   "metadata": {},
   "outputs": [
    {
     "data": {
      "text/html": [
       "<div>\n",
       "<style scoped>\n",
       "    .dataframe tbody tr th:only-of-type {\n",
       "        vertical-align: middle;\n",
       "    }\n",
       "\n",
       "    .dataframe tbody tr th {\n",
       "        vertical-align: top;\n",
       "    }\n",
       "\n",
       "    .dataframe thead th {\n",
       "        text-align: right;\n",
       "    }\n",
       "</style>\n",
       "<table border=\"1\" class=\"dataframe\">\n",
       "  <thead>\n",
       "    <tr style=\"text-align: right;\">\n",
       "      <th></th>\n",
       "      <th>funded date</th>\n",
       "      <th>best funded project</th>\n",
       "    </tr>\n",
       "  </thead>\n",
       "  <tbody>\n",
       "    <tr>\n",
       "      <th>0</th>\n",
       "      <td>Wed, 14 Mar 2012 00:00:00 -0000</td>\n",
       "      <td>87142.000000</td>\n",
       "    </tr>\n",
       "    <tr>\n",
       "      <th>1</th>\n",
       "      <td>Tue, 17 Apr 2012 12:05:42 -0000</td>\n",
       "      <td>61290.000000</td>\n",
       "    </tr>\n",
       "    <tr>\n",
       "      <th>2</th>\n",
       "      <td>Sun, 29 Apr 2012 06:59:00 -0000</td>\n",
       "      <td>36276.000000</td>\n",
       "    </tr>\n",
       "    <tr>\n",
       "      <th>3</th>\n",
       "      <td>Sat, 19 May 2012 03:00:00 -0000</td>\n",
       "      <td>22999.666667</td>\n",
       "    </tr>\n",
       "    <tr>\n",
       "      <th>4</th>\n",
       "      <td>Tue, 21 Feb 2012 17:03:01 -0000</td>\n",
       "      <td>14952.000000</td>\n",
       "    </tr>\n",
       "    <tr>\n",
       "      <th>5</th>\n",
       "      <td>Wed, 02 May 2012 16:30:08 -0000</td>\n",
       "      <td>14081.000000</td>\n",
       "    </tr>\n",
       "    <tr>\n",
       "      <th>6</th>\n",
       "      <td>Sun, 06 May 2012 19:23:29 -0000</td>\n",
       "      <td>13647.000000</td>\n",
       "    </tr>\n",
       "    <tr>\n",
       "      <th>7</th>\n",
       "      <td>Fri, 17 Dec 2010 04:02:14 -0000</td>\n",
       "      <td>13512.000000</td>\n",
       "    </tr>\n",
       "    <tr>\n",
       "      <th>8</th>\n",
       "      <td>Sat, 11 Feb 2012 20:01:11 -0000</td>\n",
       "      <td>12521.000000</td>\n",
       "    </tr>\n",
       "    <tr>\n",
       "      <th>9</th>\n",
       "      <td>Fri, 20 Apr 2012 23:00:00 -0000</td>\n",
       "      <td>10057.000000</td>\n",
       "    </tr>\n",
       "  </tbody>\n",
       "</table>\n",
       "</div>"
      ],
      "text/plain": [
       "                       funded date  best funded project\n",
       "0  Wed, 14 Mar 2012 00:00:00 -0000         87142.000000\n",
       "1  Tue, 17 Apr 2012 12:05:42 -0000         61290.000000\n",
       "2  Sun, 29 Apr 2012 06:59:00 -0000         36276.000000\n",
       "3  Sat, 19 May 2012 03:00:00 -0000         22999.666667\n",
       "4  Tue, 21 Feb 2012 17:03:01 -0000         14952.000000\n",
       "5  Wed, 02 May 2012 16:30:08 -0000         14081.000000\n",
       "6  Sun, 06 May 2012 19:23:29 -0000         13647.000000\n",
       "7  Fri, 17 Dec 2010 04:02:14 -0000         13512.000000\n",
       "8  Sat, 11 Feb 2012 20:01:11 -0000         12521.000000\n",
       "9  Fri, 20 Apr 2012 23:00:00 -0000         10057.000000"
      ]
     },
     "execution_count": 105,
     "metadata": {},
     "output_type": "execute_result"
    }
   ],
   "source": [
    "#based on duration and successful fund of project name \n",
    "#we can assume the day/time/month \n",
    "best_time=Kickstarterscrape.groupby('funded date')['backers']\n",
    ".mean().sort_values(ascending=False).\\\n",
    "head(20).reset_index(name='best funded project')\n",
    "best_time.head(10)"
   ]
  },
  {
   "cell_type": "code",
   "execution_count": 112,
   "metadata": {},
   "outputs": [
    {
     "data": {
      "image/png": "[encoded data removed]",
      "text/plain": [
       "<Figure size 432x288 with 1 Axes>"
      ]
     },
     "metadata": {},
     "output_type": "display_data"
    }
   ],
   "source": [
    "best_time.sort_index().plot();"
   ]
  },
  {
   "cell_type": "code",
   "execution_count": 118,
   "metadata": {},
   "outputs": [
    {
     "data": {
      "text/html": [
       "<div>\n",
       "<style scoped>\n",
       "    .dataframe tbody tr th:only-of-type {\n",
       "        vertical-align: middle;\n",
       "    }\n",
       "\n",
       "    .dataframe tbody tr th {\n",
       "        vertical-align: top;\n",
       "    }\n",
       "\n",
       "    .dataframe thead th {\n",
       "        text-align: right;\n",
       "    }\n",
       "</style>\n",
       "<table border=\"1\" class=\"dataframe\">\n",
       "  <thead>\n",
       "    <tr style=\"text-align: right;\">\n",
       "      <th></th>\n",
       "      <th>category</th>\n",
       "      <th>best funded project</th>\n",
       "    </tr>\n",
       "  </thead>\n",
       "  <tbody>\n",
       "    <tr>\n",
       "      <th>0</th>\n",
       "      <td>Games</td>\n",
       "      <td>765.977671</td>\n",
       "    </tr>\n",
       "    <tr>\n",
       "      <th>1</th>\n",
       "      <td>Design</td>\n",
       "      <td>480.769018</td>\n",
       "    </tr>\n",
       "    <tr>\n",
       "      <th>2</th>\n",
       "      <td>Technology</td>\n",
       "      <td>352.592334</td>\n",
       "    </tr>\n",
       "    <tr>\n",
       "      <th>3</th>\n",
       "      <td>Comics</td>\n",
       "      <td>171.365385</td>\n",
       "    </tr>\n",
       "    <tr>\n",
       "      <th>4</th>\n",
       "      <td>Food</td>\n",
       "      <td>117.285054</td>\n",
       "    </tr>\n",
       "  </tbody>\n",
       "</table>\n",
       "</div>"
      ],
      "text/plain": [
       "     category  best funded project\n",
       "0       Games           765.977671\n",
       "1      Design           480.769018\n",
       "2  Technology           352.592334\n",
       "3      Comics           171.365385\n",
       "4        Food           117.285054"
      ]
     },
     "execution_count": 118,
     "metadata": {},
     "output_type": "execute_result"
    }
   ],
   "source": [
    "best_time=Kickstarterscrape.groupby('category')['backers']\n",
    ".mean().sort_values(ascending=False).\\\n",
    "head(20).reset_index(name='best funded project')\n",
    "best_time.head(5)"
   ]
  },
  {
   "cell_type": "code",
   "execution_count": null,
   "metadata": {},
   "outputs": [],
   "source": []
  }
 ],
 "metadata": {
  "kernelspec": {
   "display_name": "Python 3",
   "language": "python",
   "name": "python3"
  },
  "language_info": {
   "codemirror_mode": {
    "name": "ipython",
    "version": 3
   },
   "file_extension": ".py",
   "mimetype": "text/x-python",
   "name": "python",
   "nbconvert_exporter": "python",
   "pygments_lexer": "ipython3",
   "version": "3.7.3"
  }
 },
 "nbformat": 4,
 "nbformat_minor": 2
}
